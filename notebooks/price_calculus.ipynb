{
 "cells": [
  {
   "attachments": {},
   "cell_type": "markdown",
   "metadata": {},
   "source": [
    "### Import the libraries"
   ]
  },
  {
   "cell_type": "code",
   "execution_count": 53,
   "metadata": {},
   "outputs": [],
   "source": [
    "import pandas as pd\n",
    "from pathlib import Path\n",
    "import matplotlib.pyplot as plt\n",
    "import os\n",
    "from math import gcd\n",
    "import numpy as np"
   ]
  },
  {
   "cell_type": "code",
   "execution_count": 4,
   "metadata": {},
   "outputs": [
    {
     "data": {
      "text/plain": [
       "'/Users/Antoine/data_science_projects/natixis_challenge'"
      ]
     },
     "execution_count": 4,
     "metadata": {},
     "output_type": "execute_result"
    }
   ],
   "source": [
    "notebook_path = Path(os.getcwd())\n",
    "root_path = notebook_path.parent.absolute()\n",
    "os.chdir(root_path)\n",
    "str(root_path)"
   ]
  },
  {
   "attachments": {},
   "cell_type": "markdown",
   "metadata": {},
   "source": [
    "### Load the datasets"
   ]
  },
  {
   "cell_type": "code",
   "execution_count": 5,
   "metadata": {},
   "outputs": [],
   "source": [
    "df_cockpit = pd.read_csv('./data/cockpit_20221221.csv').drop('Unnamed: 0', axis=1)\n",
    "df_item_info = pd.read_csv('./data/item_info_20221221.csv').drop('Unnamed: 0', axis=1)\n",
    "df_item_trend = pd.read_csv('./data/item_trend_20221221.csv').drop('Unnamed: 0', axis=1)\n",
    "df_mycloud = pd.read_csv('./data/mycloud_20221221.csv').drop('Unnamed: 0', axis=1)\n",
    "df_tmp_hosts_zabbix = pd.read_csv('./data/tmp_hosts_zabbix_20221221.csv').drop('Unnamed: 0', axis=1)"
   ]
  },
  {
   "attachments": {},
   "cell_type": "markdown",
   "metadata": {},
   "source": [
    "### Vizualise the datasets"
   ]
  },
  {
   "cell_type": "code",
   "execution_count": 6,
   "metadata": {},
   "outputs": [
    {
     "name": "stdout",
     "output_type": "stream",
     "text": [
      "(5189, 22)\n"
     ]
    },
    {
     "data": {
      "text/html": [
       "<div>\n",
       "<style scoped>\n",
       "    .dataframe tbody tr th:only-of-type {\n",
       "        vertical-align: middle;\n",
       "    }\n",
       "\n",
       "    .dataframe tbody tr th {\n",
       "        vertical-align: top;\n",
       "    }\n",
       "\n",
       "    .dataframe thead th {\n",
       "        text-align: right;\n",
       "    }\n",
       "</style>\n",
       "<table border=\"1\" class=\"dataframe\">\n",
       "  <thead>\n",
       "    <tr style=\"text-align: right;\">\n",
       "      <th></th>\n",
       "      <th>name_department</th>\n",
       "      <th>iua</th>\n",
       "      <th>name_subfunction</th>\n",
       "      <th>name_function</th>\n",
       "      <th>name_server</th>\n",
       "      <th>model</th>\n",
       "      <th>name_state</th>\n",
       "      <th>name_environment</th>\n",
       "      <th>os</th>\n",
       "      <th>country</th>\n",
       "      <th>...</th>\n",
       "      <th>ram</th>\n",
       "      <th>number_core</th>\n",
       "      <th>number_cpu</th>\n",
       "      <th>type_cpu</th>\n",
       "      <th>electrical_power</th>\n",
       "      <th>server_parent</th>\n",
       "      <th>server_parent2</th>\n",
       "      <th>name_cluster</th>\n",
       "      <th>mycloud</th>\n",
       "      <th>bcloud</th>\n",
       "    </tr>\n",
       "  </thead>\n",
       "  <tbody>\n",
       "    <tr>\n",
       "      <th>0</th>\n",
       "      <td>etu-bgc-etrading-architecture</td>\n",
       "      <td>AV9</td>\n",
       "      <td>Application Server</td>\n",
       "      <td>APPLICATION</td>\n",
       "      <td>SWDCFRAV9779</td>\n",
       "      <td>VIRTUAL_MACHINE</td>\n",
       "      <td>INFUNCTION</td>\n",
       "      <td>Dev</td>\n",
       "      <td>Windows 2016 Standard 10.0.14393</td>\n",
       "      <td>FRANCE</td>\n",
       "      <td>...</td>\n",
       "      <td>16777</td>\n",
       "      <td>2</td>\n",
       "      <td>2</td>\n",
       "      <td>INTEL(R) XEON(R) SILVER 4314 CPU @ 2.40GHZ</td>\n",
       "      <td>NaN</td>\n",
       "      <td>SEPCFRNXFX10808</td>\n",
       "      <td>NaN</td>\n",
       "      <td>NaN</td>\n",
       "      <td>Yes</td>\n",
       "      <td>NaN</td>\n",
       "    </tr>\n",
       "    <tr>\n",
       "      <th>1</th>\n",
       "      <td>etu-bgc-etrading-architecture</td>\n",
       "      <td>Y59</td>\n",
       "      <td>Application Server</td>\n",
       "      <td>APPLICATION</td>\n",
       "      <td>SLPAFRETR168</td>\n",
       "      <td>VIRTUAL_MACHINE</td>\n",
       "      <td>INFUNCTION</td>\n",
       "      <td>Prod</td>\n",
       "      <td>Linux 3.10.0-1160.76.1.el7.x86_64 RHEL7.9</td>\n",
       "      <td>FRANCE</td>\n",
       "      <td>...</td>\n",
       "      <td>7629</td>\n",
       "      <td>1</td>\n",
       "      <td>1</td>\n",
       "      <td>INTEL(R) XEON(R) CPU E5-2680 0 @ 2.70GHZ:X86_64</td>\n",
       "      <td>NaN</td>\n",
       "      <td>SEPIFRLINP029</td>\n",
       "      <td>NaN</td>\n",
       "      <td>NaN</td>\n",
       "      <td>No</td>\n",
       "      <td>NaN</td>\n",
       "    </tr>\n",
       "  </tbody>\n",
       "</table>\n",
       "<p>2 rows × 22 columns</p>\n",
       "</div>"
      ],
      "text/plain": [
       "                 name_department  iua    name_subfunction name_function  \\\n",
       "0  etu-bgc-etrading-architecture  AV9  Application Server   APPLICATION   \n",
       "1  etu-bgc-etrading-architecture  Y59  Application Server   APPLICATION   \n",
       "\n",
       "    name_server            model  name_state name_environment  \\\n",
       "0  SWDCFRAV9779  VIRTUAL_MACHINE  INFUNCTION              Dev   \n",
       "1  SLPAFRETR168  VIRTUAL_MACHINE  INFUNCTION             Prod   \n",
       "\n",
       "                                          os country  ...    ram number_core  \\\n",
       "0           Windows 2016 Standard 10.0.14393  FRANCE  ...  16777           2   \n",
       "1  Linux 3.10.0-1160.76.1.el7.x86_64 RHEL7.9  FRANCE  ...   7629           1   \n",
       "\n",
       "   number_cpu                                         type_cpu  \\\n",
       "0           2       INTEL(R) XEON(R) SILVER 4314 CPU @ 2.40GHZ   \n",
       "1           1  INTEL(R) XEON(R) CPU E5-2680 0 @ 2.70GHZ:X86_64   \n",
       "\n",
       "   electrical_power    server_parent  server_parent2 name_cluster mycloud  \\\n",
       "0               NaN  SEPCFRNXFX10808             NaN          NaN     Yes   \n",
       "1               NaN    SEPIFRLINP029             NaN          NaN      No   \n",
       "\n",
       "  bcloud  \n",
       "0    NaN  \n",
       "1    NaN  \n",
       "\n",
       "[2 rows x 22 columns]"
      ]
     },
     "execution_count": 6,
     "metadata": {},
     "output_type": "execute_result"
    }
   ],
   "source": [
    "print(df_cockpit.shape)\n",
    "df_cockpit.head(2)"
   ]
  },
  {
   "cell_type": "code",
   "execution_count": null,
   "metadata": {},
   "outputs": [
    {
     "name": "stdout",
     "output_type": "stream",
     "text": [
      "(10015, 3)\n"
     ]
    },
    {
     "data": {
      "text/html": [
       "<div>\n",
       "<style scoped>\n",
       "    .dataframe tbody tr th:only-of-type {\n",
       "        vertical-align: middle;\n",
       "    }\n",
       "\n",
       "    .dataframe tbody tr th {\n",
       "        vertical-align: top;\n",
       "    }\n",
       "\n",
       "    .dataframe thead th {\n",
       "        text-align: right;\n",
       "    }\n",
       "</style>\n",
       "<table border=\"1\" class=\"dataframe\">\n",
       "  <thead>\n",
       "    <tr style=\"text-align: right;\">\n",
       "      <th></th>\n",
       "      <th>itemid</th>\n",
       "      <th>hostid</th>\n",
       "      <th>item_type</th>\n",
       "    </tr>\n",
       "  </thead>\n",
       "  <tbody>\n",
       "    <tr>\n",
       "      <th>0</th>\n",
       "      <td>264670</td>\n",
       "      <td>806</td>\n",
       "      <td>cpu</td>\n",
       "    </tr>\n",
       "    <tr>\n",
       "      <th>1</th>\n",
       "      <td>622332</td>\n",
       "      <td>4755</td>\n",
       "      <td>cpu</td>\n",
       "    </tr>\n",
       "  </tbody>\n",
       "</table>\n",
       "</div>"
      ],
      "text/plain": [
       "   itemid  hostid item_type\n",
       "0  264670     806       cpu\n",
       "1  622332    4755       cpu"
      ]
     },
     "metadata": {},
     "output_type": "display_data"
    }
   ],
   "source": [
    "print(df_item_info.shape)\n",
    "df_item_info.head(2)"
   ]
  },
  {
   "cell_type": "code",
   "execution_count": null,
   "metadata": {},
   "outputs": [
    {
     "name": "stdout",
     "output_type": "stream",
     "text": [
      "(3866173, 6)\n"
     ]
    },
    {
     "data": {
      "text/html": [
       "<div>\n",
       "<style scoped>\n",
       "    .dataframe tbody tr th:only-of-type {\n",
       "        vertical-align: middle;\n",
       "    }\n",
       "\n",
       "    .dataframe tbody tr th {\n",
       "        vertical-align: top;\n",
       "    }\n",
       "\n",
       "    .dataframe thead th {\n",
       "        text-align: right;\n",
       "    }\n",
       "</style>\n",
       "<table border=\"1\" class=\"dataframe\">\n",
       "  <thead>\n",
       "    <tr style=\"text-align: right;\">\n",
       "      <th></th>\n",
       "      <th>itemid</th>\n",
       "      <th>clock</th>\n",
       "      <th>value_min</th>\n",
       "      <th>value_avg</th>\n",
       "      <th>value_max</th>\n",
       "      <th>item_type</th>\n",
       "    </tr>\n",
       "  </thead>\n",
       "  <tbody>\n",
       "    <tr>\n",
       "      <th>0</th>\n",
       "      <td>264670</td>\n",
       "      <td>2021-05-27</td>\n",
       "      <td>5.789395</td>\n",
       "      <td>7.956363</td>\n",
       "      <td>50.884403</td>\n",
       "      <td>cpu</td>\n",
       "    </tr>\n",
       "    <tr>\n",
       "      <th>1</th>\n",
       "      <td>264670</td>\n",
       "      <td>2021-05-28</td>\n",
       "      <td>5.737689</td>\n",
       "      <td>10.279124</td>\n",
       "      <td>63.836303</td>\n",
       "      <td>cpu</td>\n",
       "    </tr>\n",
       "  </tbody>\n",
       "</table>\n",
       "</div>"
      ],
      "text/plain": [
       "   itemid       clock  value_min  value_avg  value_max item_type\n",
       "0  264670  2021-05-27   5.789395   7.956363  50.884403       cpu\n",
       "1  264670  2021-05-28   5.737689  10.279124  63.836303       cpu"
      ]
     },
     "metadata": {},
     "output_type": "display_data"
    }
   ],
   "source": [
    "print(df_item_trend.shape)\n",
    "df_item_trend.head(2)"
   ]
  },
  {
   "cell_type": "code",
   "execution_count": 52,
   "metadata": {},
   "outputs": [
    {
     "name": "stdout",
     "output_type": "stream",
     "text": [
      "(35, 5)\n"
     ]
    },
    {
     "data": {
      "text/html": [
       "<div>\n",
       "<style scoped>\n",
       "    .dataframe tbody tr th:only-of-type {\n",
       "        vertical-align: middle;\n",
       "    }\n",
       "\n",
       "    .dataframe tbody tr th {\n",
       "        vertical-align: top;\n",
       "    }\n",
       "\n",
       "    .dataframe thead th {\n",
       "        text-align: right;\n",
       "    }\n",
       "</style>\n",
       "<table border=\"1\" class=\"dataframe\">\n",
       "  <thead>\n",
       "    <tr style=\"text-align: right;\">\n",
       "      <th></th>\n",
       "      <th>key</th>\n",
       "      <th>NameMyCloud</th>\n",
       "      <th>CPU</th>\n",
       "      <th>RAM</th>\n",
       "      <th>Price</th>\n",
       "    </tr>\n",
       "  </thead>\n",
       "  <tbody>\n",
       "    <tr>\n",
       "      <th>0</th>\n",
       "      <td>1#2</td>\n",
       "      <td>small</td>\n",
       "      <td>1</td>\n",
       "      <td>2</td>\n",
       "      <td>332.15</td>\n",
       "    </tr>\n",
       "    <tr>\n",
       "      <th>1</th>\n",
       "      <td>1#4</td>\n",
       "      <td>small_2</td>\n",
       "      <td>1</td>\n",
       "      <td>4</td>\n",
       "      <td>445.30</td>\n",
       "    </tr>\n",
       "    <tr>\n",
       "      <th>2</th>\n",
       "      <td>1#6</td>\n",
       "      <td>small_3</td>\n",
       "      <td>1</td>\n",
       "      <td>6</td>\n",
       "      <td>547.50</td>\n",
       "    </tr>\n",
       "    <tr>\n",
       "      <th>3</th>\n",
       "      <td>1#8</td>\n",
       "      <td>small_4</td>\n",
       "      <td>1</td>\n",
       "      <td>8</td>\n",
       "      <td>667.95</td>\n",
       "    </tr>\n",
       "    <tr>\n",
       "      <th>4</th>\n",
       "      <td>1#12</td>\n",
       "      <td>small_6</td>\n",
       "      <td>1</td>\n",
       "      <td>12</td>\n",
       "      <td>1109.60</td>\n",
       "    </tr>\n",
       "  </tbody>\n",
       "</table>\n",
       "</div>"
      ],
      "text/plain": [
       "    key NameMyCloud  CPU  RAM    Price\n",
       "0   1#2       small    1    2   332.15\n",
       "1   1#4     small_2    1    4   445.30\n",
       "2   1#6     small_3    1    6   547.50\n",
       "3   1#8     small_4    1    8   667.95\n",
       "4  1#12     small_6    1   12  1109.60"
      ]
     },
     "execution_count": 52,
     "metadata": {},
     "output_type": "execute_result"
    }
   ],
   "source": [
    "print(df_mycloud.shape)\n",
    "df_mycloud.head(5)"
   ]
  },
  {
   "cell_type": "code",
   "execution_count": null,
   "metadata": {},
   "outputs": [
    {
     "name": "stdout",
     "output_type": "stream",
     "text": [
      "(4365, 2)\n"
     ]
    },
    {
     "data": {
      "text/html": [
       "<div>\n",
       "<style scoped>\n",
       "    .dataframe tbody tr th:only-of-type {\n",
       "        vertical-align: middle;\n",
       "    }\n",
       "\n",
       "    .dataframe tbody tr th {\n",
       "        vertical-align: top;\n",
       "    }\n",
       "\n",
       "    .dataframe thead th {\n",
       "        text-align: right;\n",
       "    }\n",
       "</style>\n",
       "<table border=\"1\" class=\"dataframe\">\n",
       "  <thead>\n",
       "    <tr style=\"text-align: right;\">\n",
       "      <th></th>\n",
       "      <th>hostid</th>\n",
       "      <th>host</th>\n",
       "    </tr>\n",
       "  </thead>\n",
       "  <tbody>\n",
       "    <tr>\n",
       "      <th>0</th>\n",
       "      <td>6</td>\n",
       "      <td>slpdfrora040a</td>\n",
       "    </tr>\n",
       "    <tr>\n",
       "      <th>1</th>\n",
       "      <td>800</td>\n",
       "      <td>SWPAFRWNETV44</td>\n",
       "    </tr>\n",
       "  </tbody>\n",
       "</table>\n",
       "</div>"
      ],
      "text/plain": [
       "   hostid           host\n",
       "0       6  slpdfrora040a\n",
       "1     800  SWPAFRWNETV44"
      ]
     },
     "metadata": {},
     "output_type": "display_data"
    }
   ],
   "source": [
    "print(df_tmp_hosts_zabbix.shape)\n",
    "df_tmp_hosts_zabbix.head(2)"
   ]
  },
  {
   "attachments": {},
   "cell_type": "markdown",
   "metadata": {},
   "source": [
    "### Calculate the price of the configuration\n",
    "We only take into account the mycloud servors (we don't have the catalogue of the other servors)."
   ]
  },
  {
   "cell_type": "code",
   "execution_count": 49,
   "metadata": {},
   "outputs": [
    {
     "name": "stdout",
     "output_type": "stream",
     "text": [
      "80 different memory capacities of ram.\n"
     ]
    }
   ],
   "source": [
    "print(f\"{len(df_cockpit[df_cockpit.mycloud=='Yes'].ram.sort_values().unique())} different memory capacities of ram.\")"
   ]
  },
  {
   "cell_type": "code",
   "execution_count": 74,
   "metadata": {},
   "outputs": [
    {
     "data": {
      "text/html": [
       "<div>\n",
       "<style scoped>\n",
       "    .dataframe tbody tr th:only-of-type {\n",
       "        vertical-align: middle;\n",
       "    }\n",
       "\n",
       "    .dataframe tbody tr th {\n",
       "        vertical-align: top;\n",
       "    }\n",
       "\n",
       "    .dataframe thead th {\n",
       "        text-align: right;\n",
       "    }\n",
       "</style>\n",
       "<table border=\"1\" class=\"dataframe\">\n",
       "  <thead>\n",
       "    <tr style=\"text-align: right;\">\n",
       "      <th></th>\n",
       "      <th>iua</th>\n",
       "      <th>ram</th>\n",
       "      <th>number_cpu</th>\n",
       "    </tr>\n",
       "  </thead>\n",
       "  <tbody>\n",
       "    <tr>\n",
       "      <th>342</th>\n",
       "      <td>GOS</td>\n",
       "      <td>1.76</td>\n",
       "      <td>1</td>\n",
       "    </tr>\n",
       "    <tr>\n",
       "      <th>694</th>\n",
       "      <td>Q63</td>\n",
       "      <td>1.76</td>\n",
       "      <td>1</td>\n",
       "    </tr>\n",
       "  </tbody>\n",
       "</table>\n",
       "</div>"
      ],
      "text/plain": [
       "     iua   ram  number_cpu\n",
       "342  GOS  1.76           1\n",
       "694  Q63  1.76           1"
      ]
     },
     "execution_count": 74,
     "metadata": {},
     "output_type": "execute_result"
    }
   ],
   "source": [
    "config = pd.DataFrame(df_cockpit[df_cockpit.mycloud=='Yes'][[\"iua\", \"ram\", \"number_cpu\"]].sort_values(\"ram\"))\n",
    "config[\"ram\"] = config.ram/1000\n",
    "config.head(2)"
   ]
  },
  {
   "cell_type": "code",
   "execution_count": 75,
   "metadata": {},
   "outputs": [
    {
     "data": {
      "text/plain": [
       "10000"
      ]
     },
     "execution_count": 75,
     "metadata": {},
     "output_type": "execute_result"
    }
   ],
   "source": [
    "def find_closest(ram, ram_refs):\n",
    "    for index, ram_ref in enumerate(ram_refs):\n",
    "        # Initialization\n",
    "        if index==0:\n",
    "            ram_final = ram_refs[0]\n",
    "\n",
    "        # Reccurence\n",
    "        else:\n",
    "            if abs(ram-ram_ref) < abs(ram-ram_final):\n",
    "                ram_final = ram_ref\n",
    "    return ram_final\n",
    "find_closest(12380, [1000, 5000, 10000, 15000, 20000])"
   ]
  },
  {
   "cell_type": "code",
   "execution_count": 77,
   "metadata": {},
   "outputs": [
    {
     "data": {
      "text/html": [
       "<div>\n",
       "<style scoped>\n",
       "    .dataframe tbody tr th:only-of-type {\n",
       "        vertical-align: middle;\n",
       "    }\n",
       "\n",
       "    .dataframe tbody tr th {\n",
       "        vertical-align: top;\n",
       "    }\n",
       "\n",
       "    .dataframe thead th {\n",
       "        text-align: right;\n",
       "    }\n",
       "</style>\n",
       "<table border=\"1\" class=\"dataframe\">\n",
       "  <thead>\n",
       "    <tr style=\"text-align: right;\">\n",
       "      <th></th>\n",
       "      <th>iua</th>\n",
       "      <th>ram</th>\n",
       "      <th>number_cpu</th>\n",
       "      <th>ram_ref</th>\n",
       "    </tr>\n",
       "  </thead>\n",
       "  <tbody>\n",
       "    <tr>\n",
       "      <th>342</th>\n",
       "      <td>GOS</td>\n",
       "      <td>1.760</td>\n",
       "      <td>1</td>\n",
       "      <td>2</td>\n",
       "    </tr>\n",
       "    <tr>\n",
       "      <th>694</th>\n",
       "      <td>Q63</td>\n",
       "      <td>1.760</td>\n",
       "      <td>1</td>\n",
       "      <td>2</td>\n",
       "    </tr>\n",
       "    <tr>\n",
       "      <th>2323</th>\n",
       "      <td>CDB</td>\n",
       "      <td>1.855</td>\n",
       "      <td>1</td>\n",
       "      <td>2</td>\n",
       "    </tr>\n",
       "  </tbody>\n",
       "</table>\n",
       "</div>"
      ],
      "text/plain": [
       "      iua    ram  number_cpu  ram_ref\n",
       "342   GOS  1.760           1        2\n",
       "694   Q63  1.760           1        2\n",
       "2323  CDB  1.855           1        2"
      ]
     },
     "execution_count": 77,
     "metadata": {},
     "output_type": "execute_result"
    }
   ],
   "source": [
    "config[\"ram_ref\"] = config.ram.apply(lambda x: find_closest(x, df_mycloud.RAM))\n",
    "config.head(3)"
   ]
  },
  {
   "cell_type": "code",
   "execution_count": 85,
   "metadata": {},
   "outputs": [
    {
     "data": {
      "text/html": [
       "<div>\n",
       "<style scoped>\n",
       "    .dataframe tbody tr th:only-of-type {\n",
       "        vertical-align: middle;\n",
       "    }\n",
       "\n",
       "    .dataframe tbody tr th {\n",
       "        vertical-align: top;\n",
       "    }\n",
       "\n",
       "    .dataframe thead th {\n",
       "        text-align: right;\n",
       "    }\n",
       "</style>\n",
       "<table border=\"1\" class=\"dataframe\">\n",
       "  <thead>\n",
       "    <tr style=\"text-align: right;\">\n",
       "      <th></th>\n",
       "      <th>iua</th>\n",
       "      <th>ram</th>\n",
       "      <th>key</th>\n",
       "      <th>NameMyCloud</th>\n",
       "      <th>CPU</th>\n",
       "      <th>RAM</th>\n",
       "      <th>Price</th>\n",
       "    </tr>\n",
       "  </thead>\n",
       "  <tbody>\n",
       "    <tr>\n",
       "      <th>0</th>\n",
       "      <td>GOS</td>\n",
       "      <td>1.760</td>\n",
       "      <td>1#2</td>\n",
       "      <td>small</td>\n",
       "      <td>1</td>\n",
       "      <td>2</td>\n",
       "      <td>332.15</td>\n",
       "    </tr>\n",
       "    <tr>\n",
       "      <th>1</th>\n",
       "      <td>Q63</td>\n",
       "      <td>1.760</td>\n",
       "      <td>1#2</td>\n",
       "      <td>small</td>\n",
       "      <td>1</td>\n",
       "      <td>2</td>\n",
       "      <td>332.15</td>\n",
       "    </tr>\n",
       "    <tr>\n",
       "      <th>2</th>\n",
       "      <td>CDB</td>\n",
       "      <td>1.855</td>\n",
       "      <td>1#2</td>\n",
       "      <td>small</td>\n",
       "      <td>1</td>\n",
       "      <td>2</td>\n",
       "      <td>332.15</td>\n",
       "    </tr>\n",
       "  </tbody>\n",
       "</table>\n",
       "</div>"
      ],
      "text/plain": [
       "   iua    ram  key NameMyCloud  CPU  RAM   Price\n",
       "0  GOS  1.760  1#2       small    1    2  332.15\n",
       "1  Q63  1.760  1#2       small    1    2  332.15\n",
       "2  CDB  1.855  1#2       small    1    2  332.15"
      ]
     },
     "execution_count": 85,
     "metadata": {},
     "output_type": "execute_result"
    }
   ],
   "source": [
    "config2 = config.merge(df_mycloud, how=\"left\", left_on=[\"ram_ref\", \"number_cpu\"], right_on=[\"RAM\", \"CPU\"])\n",
    "config2 = config2.drop([\"number_cpu\", \"ram_ref\"], axis=1)\n",
    "config2.head(3)"
   ]
  },
  {
   "cell_type": "code",
   "execution_count": 86,
   "metadata": {},
   "outputs": [
    {
     "data": {
      "text/plain": [
       "'The total price of the config is 7726305.83€.'"
      ]
     },
     "execution_count": 86,
     "metadata": {},
     "output_type": "execute_result"
    }
   ],
   "source": [
    "# Calculate the price.\n",
    "config_price = config2.Price.sum()\n",
    "f\"The total price of the config is {config_price}€.\""
   ]
  },
  {
   "cell_type": "code",
   "execution_count": 90,
   "metadata": {},
   "outputs": [],
   "source": [
    "# Final function\n",
    "def calculate_price(df_cockpit=df_cockpit, df_mycloud=df_mycloud):\n",
    "    '''\n",
    "    Calculate the price of a configuration.\n",
    "\n",
    "    Args:\n",
    "        df_cockpit : pandas.DataFrame = table of the configuration\n",
    "        df_mycloud : pandas.DataFrame = table of the catalogue of prices of mycloud servors\n",
    "\n",
    "    Return:\n",
    "        price : float = total price of the configuration\n",
    "    '''\n",
    "\n",
    "    def find_closest(ram, ram_refs):\n",
    "        '''\n",
    "        Find the closest value to a float in a list of floats.\n",
    "\n",
    "        Args:\n",
    "            ram : float = value to find the closest of\n",
    "            ram_refs : list(float) = reference values\n",
    "            \n",
    "        Return: \n",
    "            ram_final : float = closets reference value.\n",
    "        '''\n",
    "        for index, ram_ref in enumerate(ram_refs):\n",
    "            # Initialization\n",
    "            if index==0:\n",
    "                ram_final = ram_refs[0]\n",
    "\n",
    "            # Reccurence\n",
    "            else:\n",
    "                if abs(ram-ram_ref) < abs(ram-ram_final):\n",
    "                    ram_final = ram_ref\n",
    "        return ram_final\n",
    "\n",
    "    # Extract usable data : mycloud servors only\n",
    "    config = pd.DataFrame(df_cockpit[df_cockpit.mycloud=='Yes'][[\"iua\", \"ram\", \"number_cpu\"]].sort_values(\"ram\"))\n",
    "    # Convert in GBytes\n",
    "    config[\"ram\"] = config.ram/1000 \n",
    "\n",
    "    # Find the servors in the catalogue\n",
    "    config[\"ram_ref\"] = config.ram.apply(lambda x: find_closest(x, df_mycloud.RAM))\n",
    "\n",
    "    # Add prices\n",
    "    config = config.merge(df_mycloud, how=\"left\", left_on=[\"ram_ref\", \"number_cpu\"], right_on=[\"RAM\", \"CPU\"])\n",
    "    config = config.drop([\"number_cpu\", \"ram_ref\"], axis=1)\n",
    "\n",
    "    # Calculate the price.\n",
    "    config_price = config.Price.sum()\n",
    "\n",
    "    return config_price"
   ]
  },
  {
   "cell_type": "code",
   "execution_count": 91,
   "metadata": {},
   "outputs": [
    {
     "data": {
      "text/plain": [
       "7726305.83"
      ]
     },
     "execution_count": 91,
     "metadata": {},
     "output_type": "execute_result"
    }
   ],
   "source": [
    "calculate_price()"
   ]
  },
  {
   "attachments": {},
   "cell_type": "markdown",
   "metadata": {},
   "source": [
    "Function added to src.utils.py."
   ]
  },
  {
   "cell_type": "code",
   "execution_count": null,
   "metadata": {},
   "outputs": [],
   "source": []
  }
 ],
 "metadata": {
  "kernelspec": {
   "display_name": "Python 3",
   "language": "python",
   "name": "python3"
  },
  "language_info": {
   "codemirror_mode": {
    "name": "ipython",
    "version": 3
   },
   "file_extension": ".py",
   "mimetype": "text/x-python",
   "name": "python",
   "nbconvert_exporter": "python",
   "pygments_lexer": "ipython3",
   "version": "3.9.6"
  },
  "orig_nbformat": 4,
  "vscode": {
   "interpreter": {
    "hash": "aee8b7b246df8f9039afb4144a1f6fd8d2ca17a180786b69acc140d282b71a49"
   }
  }
 },
 "nbformat": 4,
 "nbformat_minor": 2
}
