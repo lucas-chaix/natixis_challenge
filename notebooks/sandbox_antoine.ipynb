{
 "cells": [
  {
   "cell_type": "code",
   "execution_count": 16,
   "metadata": {},
   "outputs": [],
   "source": [
    "import pandas as pd\n",
    "from pathlib import Path\n",
    "import matplotlib.pyplot as plt\n",
    "import os"
   ]
  },
  {
   "cell_type": "code",
   "execution_count": 2,
   "metadata": {},
   "outputs": [
    {
     "data": {
      "text/plain": [
       "'/Users/Antoine/data_science_projects/natixis_challenge'"
      ]
     },
     "execution_count": 2,
     "metadata": {},
     "output_type": "execute_result"
    }
   ],
   "source": [
    "notebook_path = Path(os.getcwd())\n",
    "root_path = notebook_path.parent.absolute()\n",
    "os.chdir(root_path)\n",
    "str(root_path)"
   ]
  },
  {
   "attachments": {},
   "cell_type": "markdown",
   "metadata": {},
   "source": [
    "### Loading datasets"
   ]
  },
  {
   "cell_type": "code",
   "execution_count": 3,
   "metadata": {},
   "outputs": [],
   "source": [
    "df_cockpit = pd.read_csv('./data/cockpit_20221221.csv').drop('Unnamed: 0', axis=1)\n",
    "df_item_info = pd.read_csv('./data/item_info_20221221.csv').drop('Unnamed: 0', axis=1)\n",
    "df_item_trend = pd.read_csv('./data/item_trend_20221221.csv').drop('Unnamed: 0', axis=1)\n",
    "df_mycloud = pd.read_csv('./data/mycloud_20221221.csv').drop('Unnamed: 0', axis=1)\n",
    "df_tmp_hosts_zabbix = pd.read_csv('./data/tmp_hosts_zabbix_20221221.csv').drop('Unnamed: 0', axis=1)"
   ]
  },
  {
   "cell_type": "code",
   "execution_count": 4,
   "metadata": {},
   "outputs": [
    {
     "name": "stdout",
     "output_type": "stream",
     "text": [
      "(5189, 22)\n"
     ]
    },
    {
     "data": {
      "text/html": [
       "<div>\n",
       "<style scoped>\n",
       "    .dataframe tbody tr th:only-of-type {\n",
       "        vertical-align: middle;\n",
       "    }\n",
       "\n",
       "    .dataframe tbody tr th {\n",
       "        vertical-align: top;\n",
       "    }\n",
       "\n",
       "    .dataframe thead th {\n",
       "        text-align: right;\n",
       "    }\n",
       "</style>\n",
       "<table border=\"1\" class=\"dataframe\">\n",
       "  <thead>\n",
       "    <tr style=\"text-align: right;\">\n",
       "      <th></th>\n",
       "      <th>name_department</th>\n",
       "      <th>iua</th>\n",
       "      <th>name_subfunction</th>\n",
       "      <th>name_function</th>\n",
       "      <th>name_server</th>\n",
       "      <th>model</th>\n",
       "      <th>name_state</th>\n",
       "      <th>name_environment</th>\n",
       "      <th>os</th>\n",
       "      <th>country</th>\n",
       "      <th>...</th>\n",
       "      <th>ram</th>\n",
       "      <th>number_core</th>\n",
       "      <th>number_cpu</th>\n",
       "      <th>type_cpu</th>\n",
       "      <th>electrical_power</th>\n",
       "      <th>server_parent</th>\n",
       "      <th>server_parent2</th>\n",
       "      <th>name_cluster</th>\n",
       "      <th>mycloud</th>\n",
       "      <th>bcloud</th>\n",
       "    </tr>\n",
       "  </thead>\n",
       "  <tbody>\n",
       "    <tr>\n",
       "      <th>0</th>\n",
       "      <td>etu-bgc-etrading-architecture</td>\n",
       "      <td>AV9</td>\n",
       "      <td>Application Server</td>\n",
       "      <td>APPLICATION</td>\n",
       "      <td>SWDCFRAV9779</td>\n",
       "      <td>VIRTUAL_MACHINE</td>\n",
       "      <td>INFUNCTION</td>\n",
       "      <td>Dev</td>\n",
       "      <td>Windows 2016 Standard 10.0.14393</td>\n",
       "      <td>FRANCE</td>\n",
       "      <td>...</td>\n",
       "      <td>16777</td>\n",
       "      <td>2</td>\n",
       "      <td>2</td>\n",
       "      <td>INTEL(R) XEON(R) SILVER 4314 CPU @ 2.40GHZ</td>\n",
       "      <td>NaN</td>\n",
       "      <td>SEPCFRNXFX10808</td>\n",
       "      <td>NaN</td>\n",
       "      <td>NaN</td>\n",
       "      <td>Yes</td>\n",
       "      <td>NaN</td>\n",
       "    </tr>\n",
       "    <tr>\n",
       "      <th>1</th>\n",
       "      <td>etu-bgc-etrading-architecture</td>\n",
       "      <td>Y59</td>\n",
       "      <td>Application Server</td>\n",
       "      <td>APPLICATION</td>\n",
       "      <td>SLPAFRETR168</td>\n",
       "      <td>VIRTUAL_MACHINE</td>\n",
       "      <td>INFUNCTION</td>\n",
       "      <td>Prod</td>\n",
       "      <td>Linux 3.10.0-1160.76.1.el7.x86_64 RHEL7.9</td>\n",
       "      <td>FRANCE</td>\n",
       "      <td>...</td>\n",
       "      <td>7629</td>\n",
       "      <td>1</td>\n",
       "      <td>1</td>\n",
       "      <td>INTEL(R) XEON(R) CPU E5-2680 0 @ 2.70GHZ:X86_64</td>\n",
       "      <td>NaN</td>\n",
       "      <td>SEPIFRLINP029</td>\n",
       "      <td>NaN</td>\n",
       "      <td>NaN</td>\n",
       "      <td>No</td>\n",
       "      <td>NaN</td>\n",
       "    </tr>\n",
       "  </tbody>\n",
       "</table>\n",
       "<p>2 rows × 22 columns</p>\n",
       "</div>"
      ],
      "text/plain": [
       "                 name_department  iua    name_subfunction name_function  \\\n",
       "0  etu-bgc-etrading-architecture  AV9  Application Server   APPLICATION   \n",
       "1  etu-bgc-etrading-architecture  Y59  Application Server   APPLICATION   \n",
       "\n",
       "    name_server            model  name_state name_environment  \\\n",
       "0  SWDCFRAV9779  VIRTUAL_MACHINE  INFUNCTION              Dev   \n",
       "1  SLPAFRETR168  VIRTUAL_MACHINE  INFUNCTION             Prod   \n",
       "\n",
       "                                          os country  ...    ram number_core  \\\n",
       "0           Windows 2016 Standard 10.0.14393  FRANCE  ...  16777           2   \n",
       "1  Linux 3.10.0-1160.76.1.el7.x86_64 RHEL7.9  FRANCE  ...   7629           1   \n",
       "\n",
       "   number_cpu                                         type_cpu  \\\n",
       "0           2       INTEL(R) XEON(R) SILVER 4314 CPU @ 2.40GHZ   \n",
       "1           1  INTEL(R) XEON(R) CPU E5-2680 0 @ 2.70GHZ:X86_64   \n",
       "\n",
       "   electrical_power    server_parent  server_parent2 name_cluster mycloud  \\\n",
       "0               NaN  SEPCFRNXFX10808             NaN          NaN     Yes   \n",
       "1               NaN    SEPIFRLINP029             NaN          NaN      No   \n",
       "\n",
       "  bcloud  \n",
       "0    NaN  \n",
       "1    NaN  \n",
       "\n",
       "[2 rows x 22 columns]"
      ]
     },
     "execution_count": 4,
     "metadata": {},
     "output_type": "execute_result"
    }
   ],
   "source": [
    "print(df_cockpit.shape)\n",
    "df_cockpit.head(2)"
   ]
  },
  {
   "cell_type": "code",
   "execution_count": 24,
   "metadata": {},
   "outputs": [
    {
     "data": {
      "text/plain": [
       "Index(['name_department', 'iua', 'name_subfunction', 'name_function',\n",
       "       'name_server', 'model', 'name_state', 'name_environment', 'os',\n",
       "       'country', 'site', 'constructor', 'ram', 'number_core', 'number_cpu',\n",
       "       'type_cpu', 'electrical_power', 'server_parent', 'server_parent2',\n",
       "       'name_cluster', 'mycloud', 'bcloud'],\n",
       "      dtype='object')"
      ]
     },
     "execution_count": 24,
     "metadata": {},
     "output_type": "execute_result"
    }
   ],
   "source": [
    "df_cockpit.columns"
   ]
  },
  {
   "cell_type": "code",
   "execution_count": 23,
   "metadata": {},
   "outputs": [
    {
     "data": {
      "text/plain": [
       "4368"
      ]
     },
     "execution_count": 23,
     "metadata": {},
     "output_type": "execute_result"
    }
   ],
   "source": [
    "df_cockpit.name_server.apply(lambda x: x.upper()).nunique()"
   ]
  },
  {
   "cell_type": "code",
   "execution_count": 5,
   "metadata": {},
   "outputs": [
    {
     "name": "stdout",
     "output_type": "stream",
     "text": [
      "(10015, 3)\n"
     ]
    },
    {
     "data": {
      "text/html": [
       "<div>\n",
       "<style scoped>\n",
       "    .dataframe tbody tr th:only-of-type {\n",
       "        vertical-align: middle;\n",
       "    }\n",
       "\n",
       "    .dataframe tbody tr th {\n",
       "        vertical-align: top;\n",
       "    }\n",
       "\n",
       "    .dataframe thead th {\n",
       "        text-align: right;\n",
       "    }\n",
       "</style>\n",
       "<table border=\"1\" class=\"dataframe\">\n",
       "  <thead>\n",
       "    <tr style=\"text-align: right;\">\n",
       "      <th></th>\n",
       "      <th>itemid</th>\n",
       "      <th>hostid</th>\n",
       "      <th>item_type</th>\n",
       "    </tr>\n",
       "  </thead>\n",
       "  <tbody>\n",
       "    <tr>\n",
       "      <th>0</th>\n",
       "      <td>264670</td>\n",
       "      <td>806</td>\n",
       "      <td>cpu</td>\n",
       "    </tr>\n",
       "    <tr>\n",
       "      <th>1</th>\n",
       "      <td>622332</td>\n",
       "      <td>4755</td>\n",
       "      <td>cpu</td>\n",
       "    </tr>\n",
       "  </tbody>\n",
       "</table>\n",
       "</div>"
      ],
      "text/plain": [
       "   itemid  hostid item_type\n",
       "0  264670     806       cpu\n",
       "1  622332    4755       cpu"
      ]
     },
     "execution_count": 5,
     "metadata": {},
     "output_type": "execute_result"
    }
   ],
   "source": [
    "print(df_item_info.shape)\n",
    "df_item_info.head(2)"
   ]
  },
  {
   "cell_type": "code",
   "execution_count": 6,
   "metadata": {},
   "outputs": [
    {
     "name": "stdout",
     "output_type": "stream",
     "text": [
      "(3866173, 6)\n"
     ]
    },
    {
     "data": {
      "text/html": [
       "<div>\n",
       "<style scoped>\n",
       "    .dataframe tbody tr th:only-of-type {\n",
       "        vertical-align: middle;\n",
       "    }\n",
       "\n",
       "    .dataframe tbody tr th {\n",
       "        vertical-align: top;\n",
       "    }\n",
       "\n",
       "    .dataframe thead th {\n",
       "        text-align: right;\n",
       "    }\n",
       "</style>\n",
       "<table border=\"1\" class=\"dataframe\">\n",
       "  <thead>\n",
       "    <tr style=\"text-align: right;\">\n",
       "      <th></th>\n",
       "      <th>itemid</th>\n",
       "      <th>clock</th>\n",
       "      <th>value_min</th>\n",
       "      <th>value_avg</th>\n",
       "      <th>value_max</th>\n",
       "      <th>item_type</th>\n",
       "    </tr>\n",
       "  </thead>\n",
       "  <tbody>\n",
       "    <tr>\n",
       "      <th>0</th>\n",
       "      <td>264670</td>\n",
       "      <td>2021-05-27</td>\n",
       "      <td>5.789395</td>\n",
       "      <td>7.956363</td>\n",
       "      <td>50.884403</td>\n",
       "      <td>cpu</td>\n",
       "    </tr>\n",
       "    <tr>\n",
       "      <th>1</th>\n",
       "      <td>264670</td>\n",
       "      <td>2021-05-28</td>\n",
       "      <td>5.737689</td>\n",
       "      <td>10.279124</td>\n",
       "      <td>63.836303</td>\n",
       "      <td>cpu</td>\n",
       "    </tr>\n",
       "  </tbody>\n",
       "</table>\n",
       "</div>"
      ],
      "text/plain": [
       "   itemid       clock  value_min  value_avg  value_max item_type\n",
       "0  264670  2021-05-27   5.789395   7.956363  50.884403       cpu\n",
       "1  264670  2021-05-28   5.737689  10.279124  63.836303       cpu"
      ]
     },
     "execution_count": 6,
     "metadata": {},
     "output_type": "execute_result"
    }
   ],
   "source": [
    "print(df_item_trend.shape)\n",
    "df_item_trend.head(2)"
   ]
  },
  {
   "cell_type": "code",
   "execution_count": null,
   "metadata": {},
   "outputs": [
    {
     "name": "stdout",
     "output_type": "stream",
     "text": [
      "(35, 5)\n"
     ]
    },
    {
     "data": {
      "text/html": [
       "<div>\n",
       "<style scoped>\n",
       "    .dataframe tbody tr th:only-of-type {\n",
       "        vertical-align: middle;\n",
       "    }\n",
       "\n",
       "    .dataframe tbody tr th {\n",
       "        vertical-align: top;\n",
       "    }\n",
       "\n",
       "    .dataframe thead th {\n",
       "        text-align: right;\n",
       "    }\n",
       "</style>\n",
       "<table border=\"1\" class=\"dataframe\">\n",
       "  <thead>\n",
       "    <tr style=\"text-align: right;\">\n",
       "      <th></th>\n",
       "      <th>key</th>\n",
       "      <th>NameMyCloud</th>\n",
       "      <th>CPU</th>\n",
       "      <th>RAM</th>\n",
       "      <th>Price</th>\n",
       "    </tr>\n",
       "  </thead>\n",
       "  <tbody>\n",
       "    <tr>\n",
       "      <th>0</th>\n",
       "      <td>1#2</td>\n",
       "      <td>small</td>\n",
       "      <td>1</td>\n",
       "      <td>2</td>\n",
       "      <td>332.15</td>\n",
       "    </tr>\n",
       "    <tr>\n",
       "      <th>1</th>\n",
       "      <td>1#4</td>\n",
       "      <td>small_2</td>\n",
       "      <td>1</td>\n",
       "      <td>4</td>\n",
       "      <td>445.30</td>\n",
       "    </tr>\n",
       "  </tbody>\n",
       "</table>\n",
       "</div>"
      ],
      "text/plain": [
       "   key NameMyCloud  CPU  RAM   Price\n",
       "0  1#2       small    1    2  332.15\n",
       "1  1#4     small_2    1    4  445.30"
      ]
     },
     "metadata": {},
     "output_type": "display_data"
    }
   ],
   "source": [
    "print(df_mycloud.shape)\n",
    "df_mycloud.head(2)"
   ]
  },
  {
   "cell_type": "code",
   "execution_count": null,
   "metadata": {},
   "outputs": [
    {
     "name": "stdout",
     "output_type": "stream",
     "text": [
      "(4365, 2)\n"
     ]
    },
    {
     "data": {
      "text/html": [
       "<div>\n",
       "<style scoped>\n",
       "    .dataframe tbody tr th:only-of-type {\n",
       "        vertical-align: middle;\n",
       "    }\n",
       "\n",
       "    .dataframe tbody tr th {\n",
       "        vertical-align: top;\n",
       "    }\n",
       "\n",
       "    .dataframe thead th {\n",
       "        text-align: right;\n",
       "    }\n",
       "</style>\n",
       "<table border=\"1\" class=\"dataframe\">\n",
       "  <thead>\n",
       "    <tr style=\"text-align: right;\">\n",
       "      <th></th>\n",
       "      <th>hostid</th>\n",
       "      <th>host</th>\n",
       "    </tr>\n",
       "  </thead>\n",
       "  <tbody>\n",
       "    <tr>\n",
       "      <th>0</th>\n",
       "      <td>6</td>\n",
       "      <td>slpdfrora040a</td>\n",
       "    </tr>\n",
       "    <tr>\n",
       "      <th>1</th>\n",
       "      <td>800</td>\n",
       "      <td>SWPAFRWNETV44</td>\n",
       "    </tr>\n",
       "  </tbody>\n",
       "</table>\n",
       "</div>"
      ],
      "text/plain": [
       "   hostid           host\n",
       "0       6  slpdfrora040a\n",
       "1     800  SWPAFRWNETV44"
      ]
     },
     "metadata": {},
     "output_type": "display_data"
    }
   ],
   "source": [
    "print(df_tmp_hosts_zabbix.shape)\n",
    "df_tmp_hosts_zabbix.head(2)"
   ]
  },
  {
   "attachments": {},
   "cell_type": "markdown",
   "metadata": {},
   "source": [
    "### Plotting evolutions"
   ]
  },
  {
   "cell_type": "code",
   "execution_count": 57,
   "metadata": {},
   "outputs": [
    {
     "data": {
      "text/html": [
       "<div>\n",
       "<style scoped>\n",
       "    .dataframe tbody tr th:only-of-type {\n",
       "        vertical-align: middle;\n",
       "    }\n",
       "\n",
       "    .dataframe tbody tr th {\n",
       "        vertical-align: top;\n",
       "    }\n",
       "\n",
       "    .dataframe thead th {\n",
       "        text-align: right;\n",
       "    }\n",
       "</style>\n",
       "<table border=\"1\" class=\"dataframe\">\n",
       "  <thead>\n",
       "    <tr style=\"text-align: right;\">\n",
       "      <th></th>\n",
       "      <th>itemid</th>\n",
       "      <th>value_avg</th>\n",
       "    </tr>\n",
       "  </thead>\n",
       "  <tbody>\n",
       "    <tr>\n",
       "      <th>0</th>\n",
       "      <td>100100034052435</td>\n",
       "      <td>0.075200</td>\n",
       "    </tr>\n",
       "    <tr>\n",
       "      <th>1</th>\n",
       "      <td>100100059854005</td>\n",
       "      <td>0.180526</td>\n",
       "    </tr>\n",
       "    <tr>\n",
       "      <th>2</th>\n",
       "      <td>100100057839888</td>\n",
       "      <td>0.187531</td>\n",
       "    </tr>\n",
       "    <tr>\n",
       "      <th>3</th>\n",
       "      <td>100100018555100</td>\n",
       "      <td>0.229399</td>\n",
       "    </tr>\n",
       "    <tr>\n",
       "      <th>4</th>\n",
       "      <td>100100018553592</td>\n",
       "      <td>0.236060</td>\n",
       "    </tr>\n",
       "  </tbody>\n",
       "</table>\n",
       "</div>"
      ],
      "text/plain": [
       "            itemid  value_avg\n",
       "0  100100034052435   0.075200\n",
       "1  100100059854005   0.180526\n",
       "2  100100057839888   0.187531\n",
       "3  100100018555100   0.229399\n",
       "4  100100018553592   0.236060"
      ]
     },
     "execution_count": 57,
     "metadata": {},
     "output_type": "execute_result"
    }
   ],
   "source": [
    "to_plot_moy = df_item_trend[[\"itemid\", \"value_avg\"]].groupby(\"itemid\").mean(\"value_avg\").sort_values(\"value_avg\", ascending=True).reset_index()\n",
    "to_plot_min = df_item_trend[[\"itemid\", \"value_min\"]].groupby(\"itemid\").mean(\"value_min\").sort_values(\"value_min\", ascending=True).reset_index()\n",
    "to_plot_max = df_item_trend[[\"itemid\", \"value_max\"]].groupby(\"itemid\").mean(\"value_max\").sort_values(\"value_max\", ascending=True).reset_index()\n",
    "\n",
    "to_plot_moy.head()"
   ]
  },
  {
   "cell_type": "code",
   "execution_count": 73,
   "metadata": {},
   "outputs": [
    {
     "data": {
      "text/plain": [
       "Text(0.5, 1.0, 'Capacity usage of RAM and CPUs in %.')"
      ]
     },
     "execution_count": 73,
     "metadata": {},
     "output_type": "execute_result"
    },
    {
     "data": {
      "image/png": "[encoded data removed]",
      "text/plain": [
       "<Figure size 640x480 with 1 Axes>"
      ]
     },
     "metadata": {},
     "output_type": "display_data"
    }
   ],
   "source": [
    "plt.plot([k*100/to_plot_max.shape[0] for k in range(to_plot_max.shape[0])], to_plot_max.value_max, c='r', label='max')\n",
    "plt.plot([k*100/to_plot_moy.shape[0] for k in range(to_plot_moy.shape[0])], to_plot_moy.value_avg, c='b', label=\"average\")\n",
    "plt.plot([k*100/to_plot_min.shape[0] for k in range(to_plot_min.shape[0])], to_plot_min.value_min, c='y', label='min')\n",
    "plt.legend()\n",
    "plt.xlabel(\"IDs of RAMs and CPUs items\")\n",
    "plt.ylabel(\"Capacity usage in %.\")\n",
    "plt.title(\"Capacity usage of RAM and CPUs in %.\")"
   ]
  },
  {
   "cell_type": "code",
   "execution_count": 70,
   "metadata": {},
   "outputs": [
    {
     "data": {
      "text/html": [
       "<div>\n",
       "<style scoped>\n",
       "    .dataframe tbody tr th:only-of-type {\n",
       "        vertical-align: middle;\n",
       "    }\n",
       "\n",
       "    .dataframe tbody tr th {\n",
       "        vertical-align: top;\n",
       "    }\n",
       "\n",
       "    .dataframe thead th {\n",
       "        text-align: right;\n",
       "    }\n",
       "</style>\n",
       "<table border=\"1\" class=\"dataframe\">\n",
       "  <thead>\n",
       "    <tr style=\"text-align: right;\">\n",
       "      <th></th>\n",
       "      <th>itemid</th>\n",
       "      <th>clock</th>\n",
       "      <th>value_min</th>\n",
       "      <th>value_avg</th>\n",
       "      <th>value_max</th>\n",
       "      <th>item_type</th>\n",
       "    </tr>\n",
       "  </thead>\n",
       "  <tbody>\n",
       "    <tr>\n",
       "      <th>0</th>\n",
       "      <td>264670</td>\n",
       "      <td>2021-05-27</td>\n",
       "      <td>5.789395</td>\n",
       "      <td>7.956363</td>\n",
       "      <td>50.884403</td>\n",
       "      <td>cpu</td>\n",
       "    </tr>\n",
       "    <tr>\n",
       "      <th>1</th>\n",
       "      <td>264670</td>\n",
       "      <td>2021-05-28</td>\n",
       "      <td>5.737689</td>\n",
       "      <td>10.279124</td>\n",
       "      <td>63.836303</td>\n",
       "      <td>cpu</td>\n",
       "    </tr>\n",
       "    <tr>\n",
       "      <th>2</th>\n",
       "      <td>264670</td>\n",
       "      <td>2021-05-29</td>\n",
       "      <td>5.552335</td>\n",
       "      <td>8.445884</td>\n",
       "      <td>63.474760</td>\n",
       "      <td>cpu</td>\n",
       "    </tr>\n",
       "    <tr>\n",
       "      <th>3</th>\n",
       "      <td>264670</td>\n",
       "      <td>2021-05-30</td>\n",
       "      <td>4.105560</td>\n",
       "      <td>8.461657</td>\n",
       "      <td>81.754707</td>\n",
       "      <td>cpu</td>\n",
       "    </tr>\n",
       "    <tr>\n",
       "      <th>4</th>\n",
       "      <td>264670</td>\n",
       "      <td>2021-05-31</td>\n",
       "      <td>5.563129</td>\n",
       "      <td>10.716333</td>\n",
       "      <td>67.131448</td>\n",
       "      <td>cpu</td>\n",
       "    </tr>\n",
       "  </tbody>\n",
       "</table>\n",
       "</div>"
      ],
      "text/plain": [
       "   itemid       clock  value_min  value_avg  value_max item_type\n",
       "0  264670  2021-05-27   5.789395   7.956363  50.884403       cpu\n",
       "1  264670  2021-05-28   5.737689  10.279124  63.836303       cpu\n",
       "2  264670  2021-05-29   5.552335   8.445884  63.474760       cpu\n",
       "3  264670  2021-05-30   4.105560   8.461657  81.754707       cpu\n",
       "4  264670  2021-05-31   5.563129  10.716333  67.131448       cpu"
      ]
     },
     "execution_count": 70,
     "metadata": {},
     "output_type": "execute_result"
    }
   ],
   "source": [
    "itemid = 264670\n",
    "to_plot = df_item_trend[df_item_trend[\"itemid\"]==itemid].sort_values(\"clock\")\n",
    "to_plot.head()"
   ]
  },
  {
   "cell_type": "code",
   "execution_count": 71,
   "metadata": {},
   "outputs": [
    {
     "data": {
      "text/plain": [
       "Text(0.5, 1.0, 'Usage evolution of itemid n°264670 in % over time.')"
      ]
     },
     "execution_count": 71,
     "metadata": {},
     "output_type": "execute_result"
    },
    {
     "data": {
      "image/png": "[encoded data removed]",
      "text/plain": [
       "<Figure size 640x480 with 1 Axes>"
      ]
     },
     "metadata": {},
     "output_type": "display_data"
    }
   ],
   "source": [
    "plt.plot(to_plot.clock, to_plot.value_max, c='r', label='max')\n",
    "plt.plot(to_plot.clock, to_plot.value_avg, c='b', label='average')\n",
    "plt.plot(to_plot.clock, to_plot.value_min, c='y', label='min')\n",
    "plt.legend()\n",
    "\n",
    "xticklabels = plt.gca().get_xticklabels()[::50]\n",
    "xticks = plt.gca().get_xticks()[::50]\n",
    "plt.gca().set_xticks(xticks, labels=xticklabels, rotation=-30, ha=\"left\")\n",
    "\n",
    "plt.xlabel('Time')\n",
    "plt.ylabel('Capacity usage (in %)')\n",
    "plt.title(f'Usage evolution of itemid n°{itemid} in % over time.')"
   ]
  },
  {
   "attachments": {},
   "cell_type": "markdown",
   "metadata": {},
   "source": [
    "### Checking correspondances server/host"
   ]
  },
  {
   "cell_type": "code",
   "execution_count": 20,
   "metadata": {},
   "outputs": [
    {
     "name": "stdout",
     "output_type": "stream",
     "text": [
      "               hostid\n",
      "host                 \n",
      "SLPCFRM31658        2\n",
      "SWBCFRM32943        2\n",
      "SWPCFRGRR259        2\n",
      "MSDIPDBS01          1\n",
      "SWPCFRCDB013        1\n",
      "...               ...\n",
      "SWBCFRAUO186        1\n",
      "SWBCFRAUO200        1\n",
      "SWBCFRAUO201        1\n",
      "SWBCFRAUO239        1\n",
      "SWUFRDV3WEB01       1\n",
      "\n",
      "[4362 rows x 1 columns]\n"
     ]
    },
    {
     "data": {
      "text/html": [
       "<div>\n",
       "<style scoped>\n",
       "    .dataframe tbody tr th:only-of-type {\n",
       "        vertical-align: middle;\n",
       "    }\n",
       "\n",
       "    .dataframe tbody tr th {\n",
       "        vertical-align: top;\n",
       "    }\n",
       "\n",
       "    .dataframe thead th {\n",
       "        text-align: right;\n",
       "    }\n",
       "</style>\n",
       "<table border=\"1\" class=\"dataframe\">\n",
       "  <thead>\n",
       "    <tr style=\"text-align: right;\">\n",
       "      <th></th>\n",
       "      <th>host</th>\n",
       "    </tr>\n",
       "    <tr>\n",
       "      <th>hostid</th>\n",
       "      <th></th>\n",
       "    </tr>\n",
       "  </thead>\n",
       "  <tbody>\n",
       "    <tr>\n",
       "      <th>6</th>\n",
       "      <td>1</td>\n",
       "    </tr>\n",
       "    <tr>\n",
       "      <th>100100000249991</th>\n",
       "      <td>1</td>\n",
       "    </tr>\n",
       "    <tr>\n",
       "      <th>100100000250205</th>\n",
       "      <td>1</td>\n",
       "    </tr>\n",
       "    <tr>\n",
       "      <th>100100000250089</th>\n",
       "      <td>1</td>\n",
       "    </tr>\n",
       "    <tr>\n",
       "      <th>100100000250047</th>\n",
       "      <td>1</td>\n",
       "    </tr>\n",
       "    <tr>\n",
       "      <th>...</th>\n",
       "      <td>...</td>\n",
       "    </tr>\n",
       "    <tr>\n",
       "      <th>100100000176979</th>\n",
       "      <td>1</td>\n",
       "    </tr>\n",
       "    <tr>\n",
       "      <th>100100000177653</th>\n",
       "      <td>1</td>\n",
       "    </tr>\n",
       "    <tr>\n",
       "      <th>100100000177781</th>\n",
       "      <td>1</td>\n",
       "    </tr>\n",
       "    <tr>\n",
       "      <th>100100000177787</th>\n",
       "      <td>1</td>\n",
       "    </tr>\n",
       "    <tr>\n",
       "      <th>100100000278188</th>\n",
       "      <td>1</td>\n",
       "    </tr>\n",
       "  </tbody>\n",
       "</table>\n",
       "<p>4365 rows × 1 columns</p>\n",
       "</div>"
      ],
      "text/plain": [
       "                 host\n",
       "hostid               \n",
       "6                   1\n",
       "100100000249991     1\n",
       "100100000250205     1\n",
       "100100000250089     1\n",
       "100100000250047     1\n",
       "...               ...\n",
       "100100000176979     1\n",
       "100100000177653     1\n",
       "100100000177781     1\n",
       "100100000177787     1\n",
       "100100000278188     1\n",
       "\n",
       "[4365 rows x 1 columns]"
      ]
     },
     "execution_count": 20,
     "metadata": {},
     "output_type": "execute_result"
    }
   ],
   "source": [
    "df_text = df_tmp_hosts_zabbix.copy()\n",
    "df_text[\"host\"] = df_tmp_hosts_zabbix.host.apply(lambda x: x.upper())\n",
    "print(df_text.groupby('host').count().sort_values('hostid', ascending=False))\n",
    "df_text.groupby('hostid').count().sort_values('host', ascending=False)"
   ]
  },
  {
   "cell_type": "code",
   "execution_count": 16,
   "metadata": {},
   "outputs": [
    {
     "name": "stdout",
     "output_type": "stream",
     "text": [
      "              hostid\n",
      "host                \n",
      "MSDIPDBS01         1\n",
      "SWUCFRQ35650       1\n",
      "SWUCFRQ38259       1\n",
      "SWUCFRQ35979       1\n",
      "SWUCFRQ35869       1\n",
      "...              ...\n",
      "SWPCFRAIC724       1\n",
      "SWPCFRAIC737       1\n",
      "SWPCFRAIC758       1\n",
      "SWPCFRAIC784       1\n",
      "swpcfrgrr259       1\n",
      "\n",
      "[4365 rows x 1 columns]\n"
     ]
    },
    {
     "data": {
      "text/html": [
       "<div>\n",
       "<style scoped>\n",
       "    .dataframe tbody tr th:only-of-type {\n",
       "        vertical-align: middle;\n",
       "    }\n",
       "\n",
       "    .dataframe tbody tr th {\n",
       "        vertical-align: top;\n",
       "    }\n",
       "\n",
       "    .dataframe thead th {\n",
       "        text-align: right;\n",
       "    }\n",
       "</style>\n",
       "<table border=\"1\" class=\"dataframe\">\n",
       "  <thead>\n",
       "    <tr style=\"text-align: right;\">\n",
       "      <th></th>\n",
       "      <th>host</th>\n",
       "    </tr>\n",
       "    <tr>\n",
       "      <th>hostid</th>\n",
       "      <th></th>\n",
       "    </tr>\n",
       "  </thead>\n",
       "  <tbody>\n",
       "    <tr>\n",
       "      <th>6</th>\n",
       "      <td>1</td>\n",
       "    </tr>\n",
       "    <tr>\n",
       "      <th>100100000249991</th>\n",
       "      <td>1</td>\n",
       "    </tr>\n",
       "    <tr>\n",
       "      <th>100100000250205</th>\n",
       "      <td>1</td>\n",
       "    </tr>\n",
       "    <tr>\n",
       "      <th>100100000250089</th>\n",
       "      <td>1</td>\n",
       "    </tr>\n",
       "    <tr>\n",
       "      <th>100100000250047</th>\n",
       "      <td>1</td>\n",
       "    </tr>\n",
       "    <tr>\n",
       "      <th>...</th>\n",
       "      <td>...</td>\n",
       "    </tr>\n",
       "    <tr>\n",
       "      <th>100100000176979</th>\n",
       "      <td>1</td>\n",
       "    </tr>\n",
       "    <tr>\n",
       "      <th>100100000177653</th>\n",
       "      <td>1</td>\n",
       "    </tr>\n",
       "    <tr>\n",
       "      <th>100100000177781</th>\n",
       "      <td>1</td>\n",
       "    </tr>\n",
       "    <tr>\n",
       "      <th>100100000177787</th>\n",
       "      <td>1</td>\n",
       "    </tr>\n",
       "    <tr>\n",
       "      <th>100100000278188</th>\n",
       "      <td>1</td>\n",
       "    </tr>\n",
       "  </tbody>\n",
       "</table>\n",
       "<p>4365 rows × 1 columns</p>\n",
       "</div>"
      ],
      "text/plain": [
       "                 host\n",
       "hostid               \n",
       "6                   1\n",
       "100100000249991     1\n",
       "100100000250205     1\n",
       "100100000250089     1\n",
       "100100000250047     1\n",
       "...               ...\n",
       "100100000176979     1\n",
       "100100000177653     1\n",
       "100100000177781     1\n",
       "100100000177787     1\n",
       "100100000278188     1\n",
       "\n",
       "[4365 rows x 1 columns]"
      ]
     },
     "execution_count": 16,
     "metadata": {},
     "output_type": "execute_result"
    }
   ],
   "source": [
    "print(df_tmp_hosts_zabbix.groupby('host').count().sort_values('hostid', ascending=False))\n",
    "df_tmp_hosts_zabbix.groupby('hostid').count().sort_values('host', ascending=False)"
   ]
  },
  {
   "cell_type": "code",
   "execution_count": null,
   "metadata": {},
   "outputs": [],
   "source": []
  }
 ],
 "metadata": {
  "kernelspec": {
   "display_name": "Python 3",
   "language": "python",
   "name": "python3"
  },
  "language_info": {
   "codemirror_mode": {
    "name": "ipython",
    "version": 3
   },
   "file_extension": ".py",
   "mimetype": "text/x-python",
   "name": "python",
   "nbconvert_exporter": "python",
   "pygments_lexer": "ipython3",
   "version": "3.9.6 (v3.9.6:db3ff76da1, Jun 28 2021, 11:49:53) \n[Clang 6.0 (clang-600.0.57)]"
  },
  "orig_nbformat": 4,
  "vscode": {
   "interpreter": {
    "hash": "aee8b7b246df8f9039afb4144a1f6fd8d2ca17a180786b69acc140d282b71a49"
   }
  }
 },
 "nbformat": 4,
 "nbformat_minor": 2
}
